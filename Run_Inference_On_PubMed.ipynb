{
 "cells": [
  {
   "cell_type": "markdown",
   "metadata": {},
   "source": [
    "## Run Entity Extraction"
   ]
  },
  {
   "cell_type": "markdown",
   "metadata": {},
   "source": [
    "#### From PubMed Article https://pubmed.ncbi.nlm.nih.gov/34627582/"
   ]
  },
  {
   "cell_type": "code",
   "execution_count": 2,
   "metadata": {},
   "outputs": [],
   "source": [
    "text1 = \"\"\"Pulmonary arterial hypertension (PAH) - a complex and progressive disease that carries significant morbidity and mortality despite optimal medical treatment. Combination therapy for PAH can be more effective than monotherapy. The present randomized trial compared the safety and efficacy of sildenafil ambrisentan combination therapy with sildenafil monotherapy. Twenty-two patients of Eisenmenger syndrome and five patients of idiopathic PAH were randomized to two arms. There was a significant improvement in NYHA functional class and mean pulmonary artery pressure, while an insignificant improving trend was observed for 6-min walk distance and oxygen saturation, following the 12 weeks of combination therapy. An upfront combination therapy was found to be safe and effective in the management of PAH patients. \"\"\""
   ]
  },
  {
   "cell_type": "code",
   "execution_count": 3,
   "metadata": {},
   "outputs": [
    {
     "name": "stdout",
     "output_type": "stream",
     "text": [
      "GPU  False\n"
     ]
    },
    {
     "data": {
      "application/vnd.jupyter.widget-view+json": {
       "model_id": "cf525f698068401283e6d5e91fc4d2b0",
       "version_major": 2,
       "version_minor": 0
      },
      "text/plain": [
       "Prediction:   0%|          | 0/1 [00:00<?, ?it/s]"
      ]
     },
     "metadata": {},
     "output_type": "display_data"
    },
    {
     "data": {
      "text/plain": [
       "[\n",
       " ID: T0\n",
       " Entity name: Reason\n",
       " Character range: 182 185\n",
       " Entity text: 'PAH',\n",
       " \n",
       " ID: T1\n",
       " Entity name: Drug\n",
       " Character range: 291 301\n",
       " Entity text: 'sildenafil',\n",
       " \n",
       " ID: T2\n",
       " Entity name: Drug\n",
       " Character range: 339 349\n",
       " Entity text: 'sildenafil',\n",
       " \n",
       " ID: T3\n",
       " Entity name: Reason\n",
       " Character range: 802 805\n",
       " Entity text: 'PAH']"
      ]
     },
     "execution_count": 3,
     "metadata": {},
     "output_type": "execute_result"
    }
   ],
   "source": [
    "from predict import get_ner_predictions\n",
    "ner_predictions1 = get_ner_predictions(\n",
    "    ehr_record=text1,\n",
    "    model_name=\"biobert\")\n",
    "ner_predictions1.get_entities()"
   ]
  },
  {
   "cell_type": "markdown",
   "metadata": {},
   "source": [
    "#### From PubMed Article https://pubmed.ncbi.nlm.nih.gov/34497295/"
   ]
  },
  {
   "cell_type": "code",
   "execution_count": 4,
   "metadata": {},
   "outputs": [],
   "source": [
    "text2 = \"\"\"Sildenafil is a phosphodiesterase-5 inhibitor used to treat idiopathic pulmonary arterial hypertension; however, its benefits are unclear in patients with advanced idiopathic pulmonary fibrosis (IPF). We aimed to evaluate its effect as an add-on to antifibrotic agents on clinical outcomes of real-world IPF patients. Among a total of 607 IPF patients treated with antifibrotic agent, 66 concurrently received sildenafil. Propensity score matching was performed to adjust for differences in age, sex, body mass index, forced vital capacity (FVC), and diffusing capacity (DLCO) between the sildenafil and no-sildenafil groups. The outcomes of these groups in terms of FVC decline rate, all-cause mortality, hospitalization, and acute exacerbation were compared. Propensity score matching identified 51 matched pairs. The mean age of the patients was 69.5 years and 80.4% were male. Mean FVC and DLCO were 51.7% and 29.5% of the predicted values, respectively. The FVC decline rates did not differ significantly (p = 0.714) between the sildenafil (- 101 mL/year) and no-sildenafil (- 117 mL/year) groups. In multivariable analyses adjusted for comorbidities and presence of pulmonary hypertension, sildenafil had no significant impact on all-cause mortality, hospitalization, or acute exacerbation. Sildenafil add-on to antifibrotic treatment had no significant effects on the clinical outcomes of IPF patients. \"\"\""
   ]
  },
  {
   "cell_type": "code",
   "execution_count": 5,
   "metadata": {},
   "outputs": [
    {
     "data": {
      "application/vnd.jupyter.widget-view+json": {
       "model_id": "ae521c9e780648a59bce5aef4f6f50ba",
       "version_major": 2,
       "version_minor": 0
      },
      "text/plain": [
       "Prediction:   0%|          | 0/1 [00:00<?, ?it/s]"
      ]
     },
     "metadata": {},
     "output_type": "display_data"
    },
    {
     "data": {
      "text/plain": [
       "[\n",
       " ID: T0\n",
       " Entity name: Drug\n",
       " Character range: 0 10\n",
       " Entity text: 'Sildenafil',\n",
       " \n",
       " ID: T1\n",
       " Entity name: Reason\n",
       " Character range: 60 103\n",
       " Entity text: 'idiopathic pulmonary arterial hypertension;',\n",
       " \n",
       " ID: T2\n",
       " Entity name: Drug\n",
       " Character range: 249 268\n",
       " Entity text: 'antifibrotic agents',\n",
       " \n",
       " ID: T3\n",
       " Entity name: Reason\n",
       " Character range: 304 307\n",
       " Entity text: 'IPF',\n",
       " \n",
       " ID: T4\n",
       " Entity name: Reason\n",
       " Character range: 339 342\n",
       " Entity text: 'IPF',\n",
       " \n",
       " ID: T5\n",
       " Entity name: Drug\n",
       " Character range: 365 383\n",
       " Entity text: 'antifibrotic agent',\n",
       " \n",
       " ID: T6\n",
       " Entity name: Drug\n",
       " Character range: 410 421\n",
       " Entity text: 'sildenafil.',\n",
       " \n",
       " ID: T7\n",
       " Entity name: Drug\n",
       " Character range: 589 599\n",
       " Entity text: 'sildenafil',\n",
       " \n",
       " ID: T8\n",
       " Entity name: Drug\n",
       " Character range: 1034 1044\n",
       " Entity text: 'sildenafil',\n",
       " \n",
       " ID: T9\n",
       " Entity name: Drug\n",
       " Character range: 1068 1078\n",
       " Entity text: 'sildenafil',\n",
       " \n",
       " ID: T10\n",
       " Entity name: Drug\n",
       " Character range: 1196 1206\n",
       " Entity text: 'sildenafil',\n",
       " \n",
       " ID: T11\n",
       " Entity name: Drug\n",
       " Character range: 1297 1307\n",
       " Entity text: 'Sildenafil',\n",
       " \n",
       " ID: T12\n",
       " Entity name: Drug\n",
       " Character range: 1318 1330\n",
       " Entity text: 'antifibrotic']"
      ]
     },
     "execution_count": 5,
     "metadata": {},
     "output_type": "execute_result"
    }
   ],
   "source": [
    "from predict import get_ner_predictions\n",
    "ner_predictions2 = get_ner_predictions(\n",
    "    ehr_record=text2,\n",
    "    model_name=\"biobert\")\n",
    "ner_predictions2.get_entities()"
   ]
  },
  {
   "cell_type": "markdown",
   "metadata": {},
   "source": [
    "## Run Relation Extraction"
   ]
  },
  {
   "cell_type": "code",
   "execution_count": 6,
   "metadata": {},
   "outputs": [],
   "source": [
    "from predict import get_re_predictions\n",
    "from utils import display_ehr, get_long_relation_table, display_knowledge_graph, get_relation_table\n"
   ]
  },
  {
   "cell_type": "code",
   "execution_count": 7,
   "metadata": {},
   "outputs": [
    {
     "data": {
      "application/vnd.jupyter.widget-view+json": {
       "model_id": "dfb12f6940f44b9581674ccad1fb74a5",
       "version_major": 2,
       "version_minor": 0
      },
      "text/plain": [
       "Prediction:   0%|          | 0/1 [00:00<?, ?it/s]"
      ]
     },
     "metadata": {},
     "output_type": "display_data"
    }
   ],
   "source": [
    "re_predictions1 = get_re_predictions(ner_predictions1)"
   ]
  },
  {
   "cell_type": "code",
   "execution_count": 8,
   "metadata": {},
   "outputs": [
    {
     "data": {
      "text/plain": [
       "[]"
      ]
     },
     "execution_count": 8,
     "metadata": {},
     "output_type": "execute_result"
    }
   ],
   "source": [
    "re_predictions1.relations"
   ]
  },
  {
   "cell_type": "code",
   "execution_count": 9,
   "metadata": {},
   "outputs": [
    {
     "data": {
      "application/vnd.jupyter.widget-view+json": {
       "model_id": "7ea690e357d7419aa716940e7973b75f",
       "version_major": 2,
       "version_minor": 0
      },
      "text/plain": [
       "Prediction:   0%|          | 0/2 [00:00<?, ?it/s]"
      ]
     },
     "metadata": {},
     "output_type": "display_data"
    }
   ],
   "source": [
    "re_predictions2 = get_re_predictions(ner_predictions2)"
   ]
  },
  {
   "cell_type": "code",
   "execution_count": 10,
   "metadata": {},
   "outputs": [
    {
     "data": {
      "text/plain": [
       "[]"
      ]
     },
     "execution_count": 10,
     "metadata": {},
     "output_type": "execute_result"
    }
   ],
   "source": [
    "re_predictions2.relations"
   ]
  }
 ],
 "metadata": {
  "kernelspec": {
   "display_name": "Python [conda env:ehr]",
   "language": "python",
   "name": "conda-env-ehr-py"
  },
  "language_info": {
   "codemirror_mode": {
    "name": "ipython",
    "version": 3
   },
   "file_extension": ".py",
   "mimetype": "text/x-python",
   "name": "python",
   "nbconvert_exporter": "python",
   "pygments_lexer": "ipython3",
   "version": "3.7.0"
  }
 },
 "nbformat": 4,
 "nbformat_minor": 2
}
