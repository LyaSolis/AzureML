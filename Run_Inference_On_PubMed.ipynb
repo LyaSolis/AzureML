{
 "cells": [
  {
   "cell_type": "markdown",
   "metadata": {},
   "source": [
    "## Run Entity Extraction"
   ]
  },
  {
   "cell_type": "markdown",
   "metadata": {},
   "source": [
    "#### From PubMed Article https://pubmed.ncbi.nlm.nih.gov/34627582/"
   ]
  },
  {
   "cell_type": "code",
   "execution_count": 2,
   "metadata": {},
   "outputs": [],
   "source": [
    "text1 = \"\"\"Pulmonary arterial hypertension (PAH) - a complex and progressive disease that carries significant morbidity and mortality despite optimal medical treatment. Combination therapy for PAH can be more effective than monotherapy. The present randomized trial compared the safety and efficacy of sildenafil ambrisentan combination therapy with sildenafil monotherapy. Twenty-two patients of Eisenmenger syndrome and five patients of idiopathic PAH were randomized to two arms. There was a significant improvement in NYHA functional class and mean pulmonary artery pressure, while an insignificant improving trend was observed for 6-min walk distance and oxygen saturation, following the 12 weeks of combination therapy. An upfront combination therapy was found to be safe and effective in the management of PAH patients. \"\"\""
   ]
  },
  {
   "cell_type": "code",
   "execution_count": 3,
   "metadata": {},
   "outputs": [
    {
     "name": "stdout",
     "output_type": "stream",
     "text": [
      "GPU  False\n"
     ]
    },
    {
     "data": {
      "application/vnd.jupyter.widget-view+json": {
       "model_id": "cf525f698068401283e6d5e91fc4d2b0",
       "version_major": 2,
       "version_minor": 0
      },
      "text/plain": [
       "Prediction:   0%|          | 0/1 [00:00<?, ?it/s]"
      ]
     },
     "metadata": {},
     "output_type": "display_data"
    },
    {
     "data": {
      "text/plain": [
       "[\n",
       " ID: T0\n",
       " Entity name: Reason\n",
       " Character range: 182 185\n",
       " Entity text: 'PAH',\n",
       " \n",
       " ID: T1\n",
       " Entity name: Drug\n",
       " Character range: 291 301\n",
       " Entity text: 'sildenafil',\n",
       " \n",
       " ID: T2\n",
       " Entity name: Drug\n",
       " Character range: 339 349\n",
       " Entity text: 'sildenafil',\n",
       " \n",
       " ID: T3\n",
       " Entity name: Reason\n",
       " Character range: 802 805\n",
       " Entity text: 'PAH']"
      ]
     },
     "execution_count": 3,
     "metadata": {},
     "output_type": "execute_result"
    }
   ],
   "source": [
    "from predict import get_ner_predictions\n",
    "ner_predictions1 = get_ner_predictions(\n",
    "    ehr_record=text1,\n",
    "    model_name=\"biobert\")\n",
    "ner_predictions1.get_entities()"
   ]
  },
  {
   "cell_type": "markdown",
   "metadata": {},
   "source": [
    "#### From PubMed Article https://pubmed.ncbi.nlm.nih.gov/34497295/"
   ]
  },
  {
   "cell_type": "code",
   "execution_count": 4,
   "metadata": {},
   "outputs": [],
   "source": [
    "text2 = \"\"\"Sildenafil is a phosphodiesterase-5 inhibitor used to treat idiopathic pulmonary arterial hypertension; however, its benefits are unclear in patients with advanced idiopathic pulmonary fibrosis (IPF). We aimed to evaluate its effect as an add-on to antifibrotic agents on clinical outcomes of real-world IPF patients. Among a total of 607 IPF patients treated with antifibrotic agent, 66 concurrently received sildenafil. Propensity score matching was performed to adjust for differences in age, sex, body mass index, forced vital capacity (FVC), and diffusing capacity (DLCO) between the sildenafil and no-sildenafil groups. The outcomes of these groups in terms of FVC decline rate, all-cause mortality, hospitalization, and acute exacerbation were compared. Propensity score matching identified 51 matched pairs. The mean age of the patients was 69.5 years and 80.4% were male. Mean FVC and DLCO were 51.7% and 29.5% of the predicted values, respectively. The FVC decline rates did not differ significantly (p = 0.714) between the sildenafil (- 101 mL/year) and no-sildenafil (- 117 mL/year) groups. In multivariable analyses adjusted for comorbidities and presence of pulmonary hypertension, sildenafil had no significant impact on all-cause mortality, hospitalization, or acute exacerbation. Sildenafil add-on to antifibrotic treatment had no significant effects on the clinical outcomes of IPF patients. \"\"\""
   ]
  },
  {
   "cell_type": "code",
   "execution_count": 5,
   "metadata": {},
   "outputs": [
    {
     "data": {
      "application/vnd.jupyter.widget-view+json": {
       "model_id": "ae521c9e780648a59bce5aef4f6f50ba",
       "version_major": 2,
       "version_minor": 0
      },
      "text/plain": [
       "Prediction:   0%|          | 0/1 [00:00<?, ?it/s]"
      ]
     },
     "metadata": {},
     "output_type": "display_data"
    },
    {
     "data": {
      "text/plain": [
       "[\n",
       " ID: T0\n",
       " Entity name: Drug\n",
       " Character range: 0 10\n",
       " Entity text: 'Sildenafil',\n",
       " \n",
       " ID: T1\n",
       " Entity name: Reason\n",
       " Character range: 60 103\n",
       " Entity text: 'idiopathic pulmonary arterial hypertension;',\n",
       " \n",
       " ID: T2\n",
       " Entity name: Drug\n",
       " Character range: 249 268\n",
       " Entity text: 'antifibrotic agents',\n",
       " \n",
       " ID: T3\n",
       " Entity name: Reason\n",
       " Character range: 304 307\n",
       " Entity text: 'IPF',\n",
       " \n",
       " ID: T4\n",
       " Entity name: Reason\n",
       " Character range: 339 342\n",
       " Entity text: 'IPF',\n",
       " \n",
       " ID: T5\n",
       " Entity name: Drug\n",
       " Character range: 365 383\n",
       " Entity text: 'antifibrotic agent',\n",
       " \n",
       " ID: T6\n",
       " Entity name: Drug\n",
       " Character range: 410 421\n",
       " Entity text: 'sildenafil.',\n",
       " \n",
       " ID: T7\n",
       " Entity name: Drug\n",
       " Character range: 589 599\n",
       " Entity text: 'sildenafil',\n",
       " \n",
       " ID: T8\n",
       " Entity name: Drug\n",
       " Character range: 1034 1044\n",
       " Entity text: 'sildenafil',\n",
       " \n",
       " ID: T9\n",
       " Entity name: Drug\n",
       " Character range: 1068 1078\n",
       " Entity text: 'sildenafil',\n",
       " \n",
       " ID: T10\n",
       " Entity name: Drug\n",
       " Character range: 1196 1206\n",
       " Entity text: 'sildenafil',\n",
       " \n",
       " ID: T11\n",
       " Entity name: Drug\n",
       " Character range: 1297 1307\n",
       " Entity text: 'Sildenafil',\n",
       " \n",
       " ID: T12\n",
       " Entity name: Drug\n",
       " Character range: 1318 1330\n",
       " Entity text: 'antifibrotic']"
      ]
     },
     "execution_count": 5,
     "metadata": {},
     "output_type": "execute_result"
    }
   ],
   "source": [
    "from predict import get_ner_predictions\n",
    "ner_predictions2 = get_ner_predictions(\n",
    "    ehr_record=text2,\n",
    "    model_name=\"biobert\")\n",
    "ner_predictions2.get_entities()"
   ]
  },
  {
   "cell_type": "code",
   "execution_count": 48,
   "metadata": {},
   "outputs": [],
   "source": [
    "# FRom https://pubmed.ncbi.nlm.nih.gov/33651671/\n",
    "text3 = \"\"\"In an NIH-sponsored, multicenter, double-blinded, randomized, placebo-controlled, proof-of-concept trial, 57 patients with SSc-PAH on stable-dose standard medical therapy received two infusions of 1,000 mg rituximab or placebo administered 2 weeks apart. The primary outcome measure was the change in 6-minute-walk distance (6MWD) at 24 weeks. Secondary endpoints included safety and invasive hemodynamics. We applied a machine learning approach to predict drug responsiveness. Measurements and Main Results: We randomized 57 subjects from 2010 to 2018. In the primary analysis, using data through Week 24, the adjusted mean change in 6MWD at 24 weeks favored the treatment arm but did not reach statistical significance (23.6 ± 11.1 m vs. 0.5 ± 9.7 m; P = 0.12). Although a negative study, when data through Week 48 were also considered, the estimated change in 6MWD at Week 24 was 25.5 ± 8.8 m for rituximab and 0.4 ± 7.4 m for placebo (P = 0.03). Rituximab treatment appeared to be safe and well tolerated. Low levels of RF (rheumatoid factor), IL-12, and IL-17 were sensitive and specific as favorable predictors of a rituximab response as measured by an improved 6MWD (receiver operating characteristic area under the curve, 0.88-0.95). Conclusions: B-cell depletion therapy is a potentially effective and safe adjuvant treatment for SSc-PAH. Future studies in these patients can confirm whether the identified biomarkers predict rituximab responsiveness.\"\"\"\n",
    "\n"
   ]
  },
  {
   "cell_type": "code",
   "execution_count": 49,
   "metadata": {},
   "outputs": [
    {
     "data": {
      "application/vnd.jupyter.widget-view+json": {
       "model_id": "ba83e3cb77cc4a5bb919ef346304cfd8",
       "version_major": 2,
       "version_minor": 0
      },
      "text/plain": [
       "Prediction:   0%|          | 0/1 [00:00<?, ?it/s]"
      ]
     },
     "metadata": {},
     "output_type": "display_data"
    },
    {
     "data": {
      "text/plain": [
       "[\n",
       " ID: T0\n",
       " Entity name: Reason\n",
       " Character range: 123 130\n",
       " Entity text: 'SSc-PAH',\n",
       " \n",
       " ID: T1\n",
       " Entity name: Dosage\n",
       " Character range: 180 183\n",
       " Entity text: 'two',\n",
       " \n",
       " ID: T2\n",
       " Entity name: Form\n",
       " Character range: 184 193\n",
       " Entity text: 'infusions',\n",
       " \n",
       " ID: T3\n",
       " Entity name: Strength\n",
       " Character range: 197 205\n",
       " Entity text: '1,000 mg',\n",
       " \n",
       " ID: T4\n",
       " Entity name: Drug\n",
       " Character range: 206 215\n",
       " Entity text: 'rituximab',\n",
       " \n",
       " ID: T5\n",
       " Entity name: Drug\n",
       " Character range: 219 226\n",
       " Entity text: 'placebo',\n",
       " \n",
       " ID: T6\n",
       " Entity name: Frequency\n",
       " Character range: 240 254\n",
       " Entity text: '2 weeks apart.',\n",
       " \n",
       " ID: T7\n",
       " Entity name: ADE\n",
       " Character range: 291 323\n",
       " Entity text: 'change in 6-minute-walk distance',\n",
       " \n",
       " ID: T8\n",
       " Entity name: Duration\n",
       " Character range: 337 342\n",
       " Entity text: 'weeks',\n",
       " \n",
       " ID: T9\n",
       " Entity name: ADE\n",
       " Character range: 632 639\n",
       " Entity text: 'in 6MWD',\n",
       " \n",
       " ID: T10\n",
       " Entity name: ADE\n",
       " Character range: 853 867\n",
       " Entity text: 'change in 6MWD',\n",
       " \n",
       " ID: T11\n",
       " Entity name: Drug\n",
       " Character range: 900 909\n",
       " Entity text: 'rituximab',\n",
       " \n",
       " ID: T12\n",
       " Entity name: Drug\n",
       " Character range: 950 959\n",
       " Entity text: 'Rituximab',\n",
       " \n",
       " ID: T13\n",
       " Entity name: Drug\n",
       " Character range: 1048 1053\n",
       " Entity text: 'IL-12',\n",
       " \n",
       " ID: T14\n",
       " Entity name: Drug\n",
       " Character range: 1059 1064\n",
       " Entity text: 'IL-17',\n",
       " \n",
       " ID: T15\n",
       " Entity name: Drug\n",
       " Character range: 1122 1131\n",
       " Entity text: 'rituximab',\n",
       " \n",
       " ID: T16\n",
       " Entity name: Reason\n",
       " Character range: 1339 1347\n",
       " Entity text: 'SSc-PAH.',\n",
       " \n",
       " ID: T17\n",
       " Entity name: Drug\n",
       " Character range: 1435 1444\n",
       " Entity text: 'rituximab']"
      ]
     },
     "execution_count": 49,
     "metadata": {},
     "output_type": "execute_result"
    }
   ],
   "source": [
    "from predict import get_ner_predictions\n",
    "ner_predictions3 = get_ner_predictions(\n",
    "    ehr_record=text3,\n",
    "    model_name=\"biobert\")\n",
    "ner_predictions3.get_entities()"
   ]
  },
  {
   "cell_type": "code",
   "execution_count": 50,
   "metadata": {},
   "outputs": [],
   "source": [
    "# From https://pubmed.ncbi.nlm.nih.gov/28994364/\n",
    "text4 = \"Young children with CHD and large systemic-to-pulmonary shunts eventually develop pulmonary hypertension. At present, phosphodiesterase type-5 inhibitors such as sildenafil have been used to control pulmonary pressure before and after cardiac surgery. Recently, tadalafil has been utilised in older children with similar efficacy, but it has been used to a lesser extent in young infants. From April, 2015 to June, 2016, 42 patients aged 3-24 months with a large septal defect and pulmonary arterial hypertension were randomly divided into two equal groups: one group received oral sildenafil (1-3 mg/kg/day every 8 hours), whereas the other group received oral tadalafil (1 mg/kg once a day) from 7-10 days before surgery to 3-4 weeks after surgery. During the first 48 hours after surgery, pulmonary artery-to-aortic pressure ratio and recorded systolic pulmonary artery pressures were not significantly different between the two groups (p>0.05); moreover, there were no differences in paediatric ICU length of stay, mechanical ventilation time, clinical findings of low cardiac output state, and echocardiographic data between the two groups (p>0.05). Most of the patients had no side effects, and only five patients had a minor with no significant difference in both groups (p=0.371). Tadalafil can be considered as an effective oral therapy for preoperative and postoperative pulmonary hypertension in young infants. It can be administered at a once-daily dose with an appropriate efficacy and safety profile as sildenafil, and therefore it can be considered as an alternative to sildenafil in young children.\""
   ]
  },
  {
   "cell_type": "code",
   "execution_count": 51,
   "metadata": {},
   "outputs": [
    {
     "data": {
      "application/vnd.jupyter.widget-view+json": {
       "model_id": "924832321b5f480885416410c43a1df5",
       "version_major": 2,
       "version_minor": 0
      },
      "text/plain": [
       "Prediction:   0%|          | 0/1 [00:00<?, ?it/s]"
      ]
     },
     "metadata": {},
     "output_type": "display_data"
    },
    {
     "data": {
      "text/plain": [
       "[\n",
       " ID: T0\n",
       " Entity name: Reason\n",
       " Character range: 82 105\n",
       " Entity text: 'pulmonary hypertension.',\n",
       " \n",
       " ID: T1\n",
       " Entity name: Drug\n",
       " Character range: 162 172\n",
       " Entity text: 'sildenafil',\n",
       " \n",
       " ID: T2\n",
       " Entity name: Reason\n",
       " Character range: 191 217\n",
       " Entity text: 'control pulmonary pressure',\n",
       " \n",
       " ID: T3\n",
       " Entity name: Drug\n",
       " Character range: 262 271\n",
       " Entity text: 'tadalafil',\n",
       " \n",
       " ID: T4\n",
       " Entity name: Reason\n",
       " Character range: 481 490\n",
       " Entity text: 'pulmonary',\n",
       " \n",
       " ID: T5\n",
       " Entity name: Reason\n",
       " Character range: 500 512\n",
       " Entity text: 'hypertension',\n",
       " \n",
       " ID: T6\n",
       " Entity name: Route\n",
       " Character range: 577 581\n",
       " Entity text: 'oral',\n",
       " \n",
       " ID: T7\n",
       " Entity name: Drug\n",
       " Character range: 582 592\n",
       " Entity text: 'sildenafil',\n",
       " \n",
       " ID: T8\n",
       " Entity name: Strength\n",
       " Character range: 594 607\n",
       " Entity text: '1-3 mg/kg/day',\n",
       " \n",
       " ID: T9\n",
       " Entity name: Frequency\n",
       " Character range: 608 623\n",
       " Entity text: 'every 8 hours),',\n",
       " \n",
       " ID: T10\n",
       " Entity name: Route\n",
       " Character range: 657 661\n",
       " Entity text: 'oral',\n",
       " \n",
       " ID: T11\n",
       " Entity name: Drug\n",
       " Character range: 662 671\n",
       " Entity text: 'tadalafil',\n",
       " \n",
       " ID: T12\n",
       " Entity name: Strength\n",
       " Character range: 673 680\n",
       " Entity text: '1 mg/kg',\n",
       " \n",
       " ID: T13\n",
       " Entity name: Frequency\n",
       " Character range: 681 692\n",
       " Entity text: 'once a day)',\n",
       " \n",
       " ID: T14\n",
       " Entity name: Drug\n",
       " Character range: 1289 1298\n",
       " Entity text: 'Tadalafil',\n",
       " \n",
       " ID: T15\n",
       " Entity name: Reason\n",
       " Character range: 1350 1362\n",
       " Entity text: 'preoperative',\n",
       " \n",
       " ID: T16\n",
       " Entity name: Reason\n",
       " Character range: 1381 1403\n",
       " Entity text: 'pulmonary hypertension',\n",
       " \n",
       " ID: T17\n",
       " Entity name: Frequency\n",
       " Character range: 1450 1460\n",
       " Entity text: 'once-daily',\n",
       " \n",
       " ID: T18\n",
       " Entity name: Drug\n",
       " Character range: 1517 1528\n",
       " Entity text: 'sildenafil,',\n",
       " \n",
       " ID: T19\n",
       " Entity name: Drug\n",
       " Character range: 1585 1595\n",
       " Entity text: 'sildenafil']"
      ]
     },
     "execution_count": 51,
     "metadata": {},
     "output_type": "execute_result"
    }
   ],
   "source": [
    "from predict import get_ner_predictions\n",
    "ner_predictions4 = get_ner_predictions(\n",
    "    ehr_record=text4,\n",
    "    model_name=\"biobert\")\n",
    "ner_predictions4.get_entities()"
   ]
  },
  {
   "cell_type": "code",
   "execution_count": 57,
   "metadata": {},
   "outputs": [],
   "source": [
    "# From https://pubmed.ncbi.nlm.nih.gov/31166081/\n",
    "text5 = \"\"\"Objective: The optimal dose of Fasudil is still controversial in congenital heart disease accompanied with severe pulmonary hypertension (CHD-PAH). This study aimed to compare acute hemodynamic changes after different doses of Fasudil in 60 consecutive adult patients with CHD-PAH.\n",
    "\n",
    "Design: Prospective randomized controlled trial.\n",
    "\n",
    "Setting: Tertiary cardiology center.\n",
    "\n",
    "Patients: Adult patients with CHD-PAH.\n",
    "\n",
    "Interventions: Patients were randomized to Fasudil 30 or 60 mg.\n",
    "\n",
    "Outcome measures: The hemodynamic parameters were measured at baseline and after 30 minutes of Fasudil through right cardiac catheterization. Blood gas results were obtained from the pulmonary artery, right ventricle, right atrium, superior and inferior vena cava, and femoral artery. Pulmonary vascular resistance (PVR) and systemic arterial resistance (SVR) were calculated.\n",
    "\n",
    "Results: The changes in systolic pulmonary artery pressure (sPAP) (-13.1% vs -9.3%, P < .05), diastolic PAP (dPAP) (-17.6% vs -14.5%, P < .05), mean PAP (mPAP) (-12.4% vs -8.5%, P < .05), and PVR (-35.8% vs -22.2%, P < .05) were more pronounced in the 60-mg group than in the 30-mg group. All patients had no obvious adverse reactions related to peripheral blood pressure.\n",
    "\n",
    "Conclusions: Fasudil could improve the hemodynamics of patients with CHD-PAH, especially with the 60-mg dose. There were no serious adverse reactions.\"\"\""
   ]
  },
  {
   "cell_type": "code",
   "execution_count": 58,
   "metadata": {},
   "outputs": [
    {
     "data": {
      "application/vnd.jupyter.widget-view+json": {
       "model_id": "7fc82b4ac9c04309bf08009013eb4047",
       "version_major": 2,
       "version_minor": 0
      },
      "text/plain": [
       "Prediction:   0%|          | 0/1 [00:00<?, ?it/s]"
      ]
     },
     "metadata": {},
     "output_type": "display_data"
    },
    {
     "data": {
      "text/plain": [
       "[\n",
       " ID: T0\n",
       " Entity name: Drug\n",
       " Character range: 31 38\n",
       " Entity text: 'Fasudil',\n",
       " \n",
       " ID: T1\n",
       " Entity name: Reason\n",
       " Character range: 76 89\n",
       " Entity text: 'heart disease',\n",
       " \n",
       " ID: T2\n",
       " Entity name: Reason\n",
       " Character range: 107 136\n",
       " Entity text: 'severe pulmonary hypertension',\n",
       " \n",
       " ID: T3\n",
       " Entity name: Reason\n",
       " Character range: 141 145\n",
       " Entity text: '-PAH',\n",
       " \n",
       " ID: T4\n",
       " Entity name: Drug\n",
       " Character range: 227 234\n",
       " Entity text: 'Fasudil',\n",
       " \n",
       " ID: T5\n",
       " Entity name: Drug\n",
       " Character range: 454 461\n",
       " Entity text: 'Fasudil',\n",
       " \n",
       " ID: T6\n",
       " Entity name: Strength\n",
       " Character range: 462 467\n",
       " Entity text: '30 or',\n",
       " \n",
       " ID: T7\n",
       " Entity name: Strength\n",
       " Character range: 468 474\n",
       " Entity text: '60 mg.',\n",
       " \n",
       " ID: T8\n",
       " Entity name: Drug\n",
       " Character range: 571 578\n",
       " Entity text: 'Fasudil',\n",
       " \n",
       " ID: T9\n",
       " Entity name: Strength\n",
       " Character range: 1106 1111\n",
       " Entity text: '60-mg',\n",
       " \n",
       " ID: T10\n",
       " Entity name: Strength\n",
       " Character range: 1130 1135\n",
       " Entity text: '30-mg',\n",
       " \n",
       " ID: T11\n",
       " Entity name: Drug\n",
       " Character range: 1241 1248\n",
       " Entity text: 'Fasudil',\n",
       " \n",
       " ID: T12\n",
       " Entity name: Reason\n",
       " Character range: 1297 1305\n",
       " Entity text: 'CHD-PAH,',\n",
       " \n",
       " ID: T13\n",
       " Entity name: Strength\n",
       " Character range: 1326 1331\n",
       " Entity text: '60-mg']"
      ]
     },
     "execution_count": 58,
     "metadata": {},
     "output_type": "execute_result"
    }
   ],
   "source": [
    "ner_predictions5 = get_ner_predictions(\n",
    "    ehr_record=text5,\n",
    "    model_name=\"biobert\")\n",
    "ner_predictions5.get_entities()"
   ]
  },
  {
   "cell_type": "markdown",
   "metadata": {},
   "source": [
    "## Run Relation Extraction"
   ]
  },
  {
   "cell_type": "code",
   "execution_count": 6,
   "metadata": {},
   "outputs": [],
   "source": [
    "from predict import get_re_predictions\n",
    "from utils import display_ehr, get_long_relation_table, display_knowledge_graph, get_relation_table\n"
   ]
  },
  {
   "cell_type": "code",
   "execution_count": 7,
   "metadata": {},
   "outputs": [
    {
     "data": {
      "application/vnd.jupyter.widget-view+json": {
       "model_id": "dfb12f6940f44b9581674ccad1fb74a5",
       "version_major": 2,
       "version_minor": 0
      },
      "text/plain": [
       "Prediction:   0%|          | 0/1 [00:00<?, ?it/s]"
      ]
     },
     "metadata": {},
     "output_type": "display_data"
    }
   ],
   "source": [
    "re_predictions1 = get_re_predictions(ner_predictions1)"
   ]
  },
  {
   "cell_type": "code",
   "execution_count": 8,
   "metadata": {},
   "outputs": [
    {
     "data": {
      "text/plain": [
       "[]"
      ]
     },
     "execution_count": 8,
     "metadata": {},
     "output_type": "execute_result"
    }
   ],
   "source": [
    "re_predictions1.relations"
   ]
  },
  {
   "cell_type": "code",
   "execution_count": 9,
   "metadata": {},
   "outputs": [
    {
     "data": {
      "application/vnd.jupyter.widget-view+json": {
       "model_id": "7ea690e357d7419aa716940e7973b75f",
       "version_major": 2,
       "version_minor": 0
      },
      "text/plain": [
       "Prediction:   0%|          | 0/2 [00:00<?, ?it/s]"
      ]
     },
     "metadata": {},
     "output_type": "display_data"
    }
   ],
   "source": [
    "re_predictions2 = get_re_predictions(ner_predictions2)"
   ]
  },
  {
   "cell_type": "code",
   "execution_count": 10,
   "metadata": {},
   "outputs": [
    {
     "data": {
      "text/plain": [
       "[]"
      ]
     },
     "execution_count": 10,
     "metadata": {},
     "output_type": "execute_result"
    }
   ],
   "source": [
    "re_predictions2.relations"
   ]
  },
  {
   "cell_type": "code",
   "execution_count": 54,
   "metadata": {},
   "outputs": [
    {
     "data": {
      "application/vnd.jupyter.widget-view+json": {
       "model_id": "941273607c6c473783735b927523f10c",
       "version_major": 2,
       "version_minor": 0
      },
      "text/plain": [
       "Prediction:   0%|          | 0/3 [00:00<?, ?it/s]"
      ]
     },
     "metadata": {},
     "output_type": "display_data"
    },
    {
     "data": {
      "text/plain": [
       "[\n",
       " ID: R1\n",
       " Relation type: ADE-Drug\n",
       " \n",
       " Entity 1: \n",
       " \n",
       " ID: T4\n",
       " Entity name: Drug\n",
       " Character range: 206 215\n",
       " Entity text: 'rituximab'\n",
       " \n",
       " Entity 2: \n",
       " \n",
       " ID: T7\n",
       " Entity name: ADE\n",
       " Character range: 291 323\n",
       " Entity text: 'change in 6-minute-walk distance',\n",
       " \n",
       " ID: R2\n",
       " Relation type: ADE-Drug\n",
       " \n",
       " Entity 1: \n",
       " \n",
       " ID: T5\n",
       " Entity name: Drug\n",
       " Character range: 219 226\n",
       " Entity text: 'placebo'\n",
       " \n",
       " Entity 2: \n",
       " \n",
       " ID: T7\n",
       " Entity name: ADE\n",
       " Character range: 291 323\n",
       " Entity text: 'change in 6-minute-walk distance',\n",
       " \n",
       " ID: R3\n",
       " Relation type: ADE-Drug\n",
       " \n",
       " Entity 1: \n",
       " \n",
       " ID: T11\n",
       " Entity name: Drug\n",
       " Character range: 900 909\n",
       " Entity text: 'rituximab'\n",
       " \n",
       " Entity 2: \n",
       " \n",
       " ID: T9\n",
       " Entity name: ADE\n",
       " Character range: 632 639\n",
       " Entity text: 'in 6MWD',\n",
       " \n",
       " ID: R4\n",
       " Relation type: ADE-Drug\n",
       " \n",
       " Entity 1: \n",
       " \n",
       " ID: T12\n",
       " Entity name: Drug\n",
       " Character range: 950 959\n",
       " Entity text: 'Rituximab'\n",
       " \n",
       " Entity 2: \n",
       " \n",
       " ID: T9\n",
       " Entity name: ADE\n",
       " Character range: 632 639\n",
       " Entity text: 'in 6MWD']"
      ]
     },
     "execution_count": 54,
     "metadata": {},
     "output_type": "execute_result"
    }
   ],
   "source": [
    "re_predictions3 = get_re_predictions(ner_predictions3)\n",
    "re_predictions3.relations"
   ]
  },
  {
   "cell_type": "code",
   "execution_count": 52,
   "metadata": {},
   "outputs": [
    {
     "data": {
      "application/vnd.jupyter.widget-view+json": {
       "model_id": "8f2c035bb70745998353844978bc460a",
       "version_major": 2,
       "version_minor": 0
      },
      "text/plain": [
       "Prediction:   0%|          | 0/3 [00:00<?, ?it/s]"
      ]
     },
     "metadata": {},
     "output_type": "display_data"
    }
   ],
   "source": [
    "re_predictions4 = get_re_predictions(ner_predictions4)"
   ]
  },
  {
   "cell_type": "code",
   "execution_count": 53,
   "metadata": {},
   "outputs": [
    {
     "data": {
      "text/plain": [
       "[]"
      ]
     },
     "execution_count": 53,
     "metadata": {},
     "output_type": "execute_result"
    }
   ],
   "source": [
    "re_predictions4.relations"
   ]
  },
  {
   "cell_type": "code",
   "execution_count": 59,
   "metadata": {},
   "outputs": [
    {
     "data": {
      "application/vnd.jupyter.widget-view+json": {
       "model_id": "8c4407fafc6c4154a9e62c44e32f3beb",
       "version_major": 2,
       "version_minor": 0
      },
      "text/plain": [
       "Prediction:   0%|          | 0/2 [00:00<?, ?it/s]"
      ]
     },
     "metadata": {},
     "output_type": "display_data"
    },
    {
     "data": {
      "text/plain": [
       "[]"
      ]
     },
     "execution_count": 59,
     "metadata": {},
     "output_type": "execute_result"
    }
   ],
   "source": [
    "re_predictions5 = get_re_predictions(ner_predictions5)\n",
    "re_predictions5.relations"
   ]
  },
  {
   "cell_type": "code",
   "execution_count": null,
   "metadata": {},
   "outputs": [],
   "source": []
  }
 ],
 "metadata": {
  "kernelspec": {
   "display_name": "Python [conda env:ehr]",
   "language": "python",
   "name": "conda-env-ehr-py"
  },
  "language_info": {
   "codemirror_mode": {
    "name": "ipython",
    "version": 3
   },
   "file_extension": ".py",
   "mimetype": "text/x-python",
   "name": "python",
   "nbconvert_exporter": "python",
   "pygments_lexer": "ipython3",
   "version": "3.7.0"
  }
 },
 "nbformat": 4,
 "nbformat_minor": 2
}
